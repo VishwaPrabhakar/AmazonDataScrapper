{
 "cells": [
  {
   "cell_type": "code",
   "execution_count": 6,
   "metadata": {},
   "outputs": [],
   "source": [
    "#using bs4 (beautiful soup 4 module to build scrapper)\n",
    "\n",
    "#webclient to grab html from web we going to use\n",
    "\n",
    "#package called urllib > module name request > function name \"urlopen\"\n",
    "import bs4\n",
    "from urllib.request import urlopen as UReq\n",
    "from bs4 import BeautifulSoup as soup\n",
    "\n",
    "my_url='https://www.amazon.in/s/ref=nb_sb_noss_2?url=search-alias%3Daps&field-keywords=graphic+card'\n",
    "#downld the web page\n",
    "uclientdataframe=UReq(my_url)\n",
    "#ofload the data of html in a variable\n",
    "htmlpage=uclientdataframe.read()\n",
    "#closing connection\n",
    "uclientdataframe.close()\n",
    "page_soup= soup(htmlpage, \"html.parser\")\n"
   ]
  },
  {
   "cell_type": "code",
   "execution_count": 7,
   "metadata": {},
   "outputs": [
    {
     "data": {
      "text/plain": [
       "<h1 class=\"aok-offscreen\">Search results</h1>"
      ]
     },
     "execution_count": 7,
     "metadata": {},
     "output_type": "execute_result"
    }
   ],
   "source": [
    "page_soup.h1"
   ]
  },
  {
   "cell_type": "code",
   "execution_count": 8,
   "metadata": {},
   "outputs": [
    {
     "data": {
      "text/plain": [
       "<p class=\"nav_p nav-bold\"></p>"
      ]
     },
     "execution_count": 8,
     "metadata": {},
     "output_type": "execute_result"
    }
   ],
   "source": [
    "page_soup.p"
   ]
  },
  {
   "cell_type": "code",
   "execution_count": 11,
   "metadata": {},
   "outputs": [],
   "source": [
    "#grab each product\n",
    "containers=page_soup.find_all(\"div\",{\"class\":\"s-item-container\"})"
   ]
  },
  {
   "cell_type": "code",
   "execution_count": 13,
   "metadata": {},
   "outputs": [
    {
     "data": {
      "text/plain": [
       "16"
      ]
     },
     "execution_count": 13,
     "metadata": {},
     "output_type": "execute_result"
    }
   ],
   "source": [
    "#number of products/container found\n",
    "len(containers)\n"
   ]
  },
  {
   "cell_type": "code",
   "execution_count": 33,
   "metadata": {},
   "outputs": [],
   "source": [
    "containers2=page_soup.find_all(\"div\",{\"class\":\"a-column a-span7\"})"
   ]
  },
  {
   "cell_type": "code",
   "execution_count": 62,
   "metadata": {},
   "outputs": [
    {
     "ename": "NameError",
     "evalue": "name 'product' is not defined",
     "output_type": "error",
     "traceback": [
      "\u001b[0;31m---------------------------------------------------------------------------\u001b[0m",
      "\u001b[0;31mNameError\u001b[0m                                 Traceback (most recent call last)",
      "\u001b[0;32m<ipython-input-62-c3d8e629011c>\u001b[0m in \u001b[0;36m<module>\u001b[0;34m()\u001b[0m\n\u001b[1;32m      1\u001b[0m \u001b[0;31m#looking at the first container 0index\u001b[0m\u001b[0;34m\u001b[0m\u001b[0;34m\u001b[0m\u001b[0m\n\u001b[1;32m      2\u001b[0m \u001b[0;31m#containers[0]\u001b[0m\u001b[0;34m\u001b[0m\u001b[0;34m\u001b[0m\u001b[0m\n\u001b[0;32m----> 3\u001b[0;31m \u001b[0mfilename\u001b[0m\u001b[0;34m=\u001b[0m\u001b[0mproduct\u001b[0m\u001b[0;34m.\u001b[0m\u001b[0mcsv\u001b[0m\u001b[0;34m\u001b[0m\u001b[0m\n\u001b[0m\u001b[1;32m      4\u001b[0m \u001b[0mf\u001b[0m\u001b[0;34m=\u001b[0m \u001b[0mfileopen\u001b[0m\u001b[0;34m(\u001b[0m\u001b[0mfilename\u001b[0m\u001b[0;34m,\u001b[0m \u001b[0;34m\"w\"\u001b[0m\u001b[0;34m)\u001b[0m\u001b[0;34m\u001b[0m\u001b[0m\n\u001b[1;32m      5\u001b[0m \u001b[0mheaders\u001b[0m\u001b[0;34m=\u001b[0m \u001b[0;34m\"Title, Prices\\n\"\u001b[0m\u001b[0;34m\u001b[0m\u001b[0m\n",
      "\u001b[0;31mNameError\u001b[0m: name 'product' is not defined"
     ]
    }
   ],
   "source": [
    "#looking at the first container 0index\n",
    "#containers[0]\n"
   ]
  },
  {
   "cell_type": "code",
   "execution_count": 68,
   "metadata": {},
   "outputs": [
    {
     "name": "stdout",
     "output_type": "stream",
     "text": [
      "TitleGigabyte Geforce GT 710 2GB DDR5 Graphics Card (GV-N710D5-2GL)\n",
      "Prices₹3,290.\n",
      "TitleGigabyte Geforce GT 710 2GB DDR5 Graphics Card (GV-N710D5-2GL)\n",
      "Prices₹3,290.\n",
      "TitleGigabyte Geforce GT 710 2GB DDR5 Graphics Card (GV-N710D5-2GL)\n",
      "Prices₹3,290.\n",
      "TitleGigabyte Geforce GT 710 2GB DDR5 Graphics Card (GV-N710D5-2GL)\n",
      "Prices₹3,290.\n",
      "TitleGigabyte Geforce GT 710 2GB DDR5 Graphics Card (GV-N710D5-2GL)\n",
      "Prices₹3,290.\n",
      "TitleGigabyte Geforce GT 710 2GB DDR5 Graphics Card (GV-N710D5-2GL)\n",
      "Prices₹3,290.\n",
      "TitleGigabyte Geforce GT 710 2GB DDR5 Graphics Card (GV-N710D5-2GL)\n",
      "Prices₹3,290.\n",
      "TitleGigabyte Geforce GT 710 2GB DDR5 Graphics Card (GV-N710D5-2GL)\n",
      "Prices₹3,290.\n",
      "TitleGigabyte Geforce GT 710 2GB DDR5 Graphics Card (GV-N710D5-2GL)\n",
      "Prices₹3,290.\n",
      "TitleGigabyte Geforce GT 710 2GB DDR5 Graphics Card (GV-N710D5-2GL)\n",
      "Prices₹3,290.\n",
      "TitleGigabyte Geforce GT 710 2GB DDR5 Graphics Card (GV-N710D5-2GL)\n",
      "Prices₹3,290.\n",
      "TitleGigabyte Geforce GT 710 2GB DDR5 Graphics Card (GV-N710D5-2GL)\n",
      "Prices₹3,290.\n",
      "TitleGigabyte Geforce GT 710 2GB DDR5 Graphics Card (GV-N710D5-2GL)\n",
      "Prices₹3,290.\n",
      "TitleGigabyte Geforce GT 710 2GB DDR5 Graphics Card (GV-N710D5-2GL)\n",
      "Prices₹3,290.\n",
      "TitleGigabyte Geforce GT 710 2GB DDR5 Graphics Card (GV-N710D5-2GL)\n",
      "Prices₹3,290.\n",
      "TitleGigabyte Geforce GT 710 2GB DDR5 Graphics Card (GV-N710D5-2GL)\n",
      "Prices₹3,290.\n"
     ]
    }
   ],
   "source": [
    "#container=containers[0]\n",
    "filename=\"product.csv\"\n",
    "f= open(filename, \"w\")\n",
    "headers= \"Title, Prices\\n\"\n",
    "f.write(headers)\n",
    "for container in containers:\n",
    "    containers1=page_soup.find_all(\"div\",{\"class\":\"s-item-container\"})\n",
    "    Title= containers1[0].div.div.a.img[\"alt\"]\n",
    "    containers2=page_soup.find_all(\"div\",{\"class\":\"a-column a-span7\"})\n",
    "    Price= containers2[0].span.span.text.strip()\n",
    "    \n",
    "    print(\"Title\" + Title)\n",
    "    print(\"Prices\" + Price)\n",
    "    f.write(Title + \",\" + Price + \"\\n\")\n",
    "f.close()"
   ]
  },
  {
   "cell_type": "code",
   "execution_count": 34,
   "metadata": {},
   "outputs": [
    {
     "data": {
      "text/plain": [
       "16"
      ]
     },
     "execution_count": 34,
     "metadata": {},
     "output_type": "execute_result"
    }
   ],
   "source": [
    "#len(containers2)"
   ]
  },
  {
   "cell_type": "code",
   "execution_count": 40,
   "metadata": {},
   "outputs": [
    {
     "data": {
      "text/plain": [
       "'₹3,290.'"
      ]
     },
     "execution_count": 40,
     "metadata": {},
     "output_type": "execute_result"
    }
   ],
   "source": [
    "#containers2[0].span.span.text"
   ]
  },
  {
   "cell_type": "code",
   "execution_count": 52,
   "metadata": {},
   "outputs": [
    {
     "ename": "AttributeError",
     "evalue": "ResultSet object has no attribute 'dive'. You're probably treating a list of items like a single item. Did you call find_all() when you meant to call find()?",
     "output_type": "error",
     "traceback": [
      "\u001b[0;31m---------------------------------------------------------------------------\u001b[0m",
      "\u001b[0;31mAttributeError\u001b[0m                            Traceback (most recent call last)",
      "\u001b[0;32m<ipython-input-52-5fdd6d8eed6f>\u001b[0m in \u001b[0;36m<module>\u001b[0;34m()\u001b[0m\n\u001b[0;32m----> 1\u001b[0;31m \u001b[0mcontainers\u001b[0m\u001b[0;34m.\u001b[0m\u001b[0mdive\u001b[0m\u001b[0;34m\u001b[0m\u001b[0m\n\u001b[0m",
      "\u001b[0;32m~/anaconda/lib/python3.6/site-packages/bs4/element.py\u001b[0m in \u001b[0;36m__getattr__\u001b[0;34m(self, key)\u001b[0m\n\u001b[1;32m   1805\u001b[0m     \u001b[0;32mdef\u001b[0m \u001b[0m__getattr__\u001b[0m\u001b[0;34m(\u001b[0m\u001b[0mself\u001b[0m\u001b[0;34m,\u001b[0m \u001b[0mkey\u001b[0m\u001b[0;34m)\u001b[0m\u001b[0;34m:\u001b[0m\u001b[0;34m\u001b[0m\u001b[0m\n\u001b[1;32m   1806\u001b[0m         raise AttributeError(\n\u001b[0;32m-> 1807\u001b[0;31m             \u001b[0;34m\"ResultSet object has no attribute '%s'. You're probably treating a list of items like a single item. Did you call find_all() when you meant to call find()?\"\u001b[0m \u001b[0;34m%\u001b[0m \u001b[0mkey\u001b[0m\u001b[0;34m\u001b[0m\u001b[0m\n\u001b[0m\u001b[1;32m   1808\u001b[0m         )\n",
      "\u001b[0;31mAttributeError\u001b[0m: ResultSet object has no attribute 'dive'. You're probably treating a list of items like a single item. Did you call find_all() when you meant to call find()?"
     ]
    }
   ],
   "source": [
    "containers.dive"
   ]
  },
  {
   "cell_type": "code",
   "execution_count": 69,
   "metadata": {},
   "outputs": [
    {
     "name": "stdout",
     "output_type": "stream",
     "text": [
      "1lyndacourse.ipynb\r\n",
      "2Data Munging BASIC .ipynb\r\n",
      "\u001b[34mIceburg_statoil\u001b[m\u001b[m\r\n",
      "Lynda 3 Datamunging.ipynb\r\n",
      "Pythonscrapperproject.ipynb\r\n",
      "Survey.ipynb\r\n",
      "VGG_ILSVRC_16_layers.caffemodel\r\n",
      "VGG_ILSVRC_16_layers_deploy.prototxt.txt\r\n",
      "Vggexperimentno-1.ipynb\r\n",
      "__notebook__.ipynb\r\n",
      "\u001b[34mf2c2f440-8-dataset_he\u001b[m\u001b[m\r\n",
      "\u001b[34mgpredict\u001b[m\u001b[m\r\n",
      "\u001b[34mkaggle-survey-2017\u001b[m\u001b[m\r\n",
      "lesson1.ipynb\r\n",
      "mementopython3-english.pdf\r\n",
      "\u001b[34mmnst-data\u001b[m\u001b[m\r\n",
      "product.csv\r\n",
      "\u001b[34mreadingbook\u001b[m\u001b[m\r\n",
      "\u001b[34mtranslation\u001b[m\u001b[m\r\n",
      "vgg.png\r\n",
      "vgg16jermy.py\r\n"
     ]
    }
   ],
   "source": [
    "!ls\n"
   ]
  },
  {
   "cell_type": "code",
   "execution_count": 70,
   "metadata": {},
   "outputs": [
    {
     "name": "stdout",
     "output_type": "stream",
     "text": [
      "Title, Prices\r\n",
      "Gigabyte Geforce GT 710 2GB DDR5 Graphics Card (GV-N710D5-2GL),₹3,290.\r\n",
      "Gigabyte Geforce GT 710 2GB DDR5 Graphics Card (GV-N710D5-2GL),₹3,290.\r\n",
      "Gigabyte Geforce GT 710 2GB DDR5 Graphics Card (GV-N710D5-2GL),₹3,290.\r\n",
      "Gigabyte Geforce GT 710 2GB DDR5 Graphics Card (GV-N710D5-2GL),₹3,290.\r\n",
      "Gigabyte Geforce GT 710 2GB DDR5 Graphics Card (GV-N710D5-2GL),₹3,290.\r\n",
      "Gigabyte Geforce GT 710 2GB DDR5 Graphics Card (GV-N710D5-2GL),₹3,290.\r\n",
      "Gigabyte Geforce GT 710 2GB DDR5 Graphics Card (GV-N710D5-2GL),₹3,290.\r\n",
      "Gigabyte Geforce GT 710 2GB DDR5 Graphics Card (GV-N710D5-2GL),₹3,290.\r\n",
      "Gigabyte Geforce GT 710 2GB DDR5 Graphics Card (GV-N710D5-2GL),₹3,290.\r\n",
      "Gigabyte Geforce GT 710 2GB DDR5 Graphics Card (GV-N710D5-2GL),₹3,290.\r\n",
      "Gigabyte Geforce GT 710 2GB DDR5 Graphics Card (GV-N710D5-2GL),₹3,290.\r\n",
      "Gigabyte Geforce GT 710 2GB DDR5 Graphics Card (GV-N710D5-2GL),₹3,290.\r\n",
      "Gigabyte Geforce GT 710 2GB DDR5 Graphics Card (GV-N710D5-2GL),₹3,290.\r\n",
      "Gigabyte Geforce GT 710 2GB DDR5 Graphics Card (GV-N710D5-2GL),₹3,290.\r\n",
      "Gigabyte Geforce GT 710 2GB DDR5 Graphics Card (GV-N710D5-2GL),₹3,290.\r\n",
      "Gigabyte Geforce GT 710 2GB DDR5 Graphics Card (GV-N710D5-2GL),₹3,290.\r\n"
     ]
    }
   ],
   "source": [
    "!cat product.csv"
   ]
  },
  {
   "cell_type": "code",
   "execution_count": null,
   "metadata": {},
   "outputs": [],
   "source": []
  }
 ],
 "metadata": {
  "kernelspec": {
   "display_name": "Python 3",
   "language": "python",
   "name": "python3"
  },
  "language_info": {
   "codemirror_mode": {
    "name": "ipython",
    "version": 3
   },
   "file_extension": ".py",
   "mimetype": "text/x-python",
   "name": "python",
   "nbconvert_exporter": "python",
   "pygments_lexer": "ipython3",
   "version": "3.6.4"
  }
 },
 "nbformat": 4,
 "nbformat_minor": 2
}
